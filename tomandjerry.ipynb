{
 "cells": [
  {
   "cell_type": "code",
   "execution_count": 1,
   "metadata": {},
   "outputs": [],
   "source": [
    "import numpy as np\n",
    "import matplotlib.pyplot as plt\n",
    "import cv2\n",
    "import os\n",
    "from PIL import Image\n",
    "from sklearn import metrics\n",
    "from sklearn.metrics import classification_report\n",
    "from sklearn.metrics import accuracy_score\n",
    "\n"
   ]
  },
  {
   "cell_type": "code",
   "execution_count": 2,
   "metadata": {},
   "outputs": [],
   "source": [
    "from sklearn.linear_model import LogisticRegression\n",
    "from sklearn.ensemble import RandomForestClassifier"
   ]
  },
  {
   "cell_type": "code",
   "execution_count": 3,
   "metadata": {},
   "outputs": [
    {
     "name": "stdout",
     "output_type": "stream",
     "text": [
      "/Users/renu/Desktop/tom&jerry/tom_and_jerry/tom_and_jerry/tom\n",
      "/Users/renu/Desktop/tom&jerry/tom_and_jerry/tom_and_jerry/jerry\n",
      "/Users/renu/Desktop/tom&jerry/tom_and_jerry/tom_and_jerry/tom_jerry_0\n",
      "/Users/renu/Desktop/tom&jerry/tom_and_jerry/tom_and_jerry/tom_jerry_1\n"
     ]
    }
   ],
   "source": [
    "DATADIR = \"/Users/renu/Desktop/tom&jerry/tom_and_jerry/tom_and_jerry\"\n",
    "labels = ['tom', 'jerry','tom_jerry_0','tom_jerry_1']\n",
    "Np_data = np.zeros((5478,1))\n",
    "label = []\n",
    "training_data = []\n",
    "i = 0\n",
    "IMG_SIZE = 480\n",
    "IMG_SIZE2 = 854\n",
    "for category in labels:\n",
    "    path = os.path.join(DATADIR, category) \n",
    "\n",
    "for category in labels:\n",
    "    path = os.path.join(DATADIR, category)\n",
    "    print(path)\n",
    "    for img in os.listdir(path):\n",
    "        img_array = cv2.imread(os.path.join(path,img))\n",
    "        new_array = cv2.resize(img_array, (IMG_SIZE, IMG_SIZE2))\n",
    "        numpydata = np.array(new_array)\n",
    "        np.append(Np_data, numpydata)\n",
    "        training_data.append([new_array, i])\n",
    "        label.append(labels[i])\n",
    "    i =1+i\n",
    "\n"
   ]
  },
  {
   "cell_type": "code",
   "execution_count": 4,
   "metadata": {},
   "outputs": [],
   "source": [
    "X = []\n",
    "y = []\n",
    "for features, label in training_data:\n",
    "    X.append(features)\n",
    "    y.append(label)\n",
    "X = np.array(X).reshape(len(X), -1)\n",
    "y = np.array(y)\n",
    "from sklearn.model_selection import train_test_split\n",
    "X_train, X_test, y_train, y_test = train_test_split(X, y, test_size = 0.50)\n",
    "\n"
   ]
  },
  {
   "cell_type": "code",
   "execution_count": 15,
   "metadata": {},
   "outputs": [
    {
     "name": "stderr",
     "output_type": "stream",
     "text": [
      "/Library/Frameworks/Python.framework/Versions/3.10/lib/python3.10/site-packages/sklearn/linear_model/_logistic.py:814: ConvergenceWarning: lbfgs failed to converge (status=1):\n",
      "STOP: TOTAL NO. of ITERATIONS REACHED LIMIT.\n",
      "\n",
      "Increase the number of iterations (max_iter) or scale the data as shown in:\n",
      "    https://scikit-learn.org/stable/modules/preprocessing.html\n",
      "Please also refer to the documentation for alternative solver options:\n",
      "    https://scikit-learn.org/stable/modules/linear_model.html#logistic-regression\n",
      "  n_iter_i = _check_optimize_result(\n"
     ]
    },
    {
     "name": "stdout",
     "output_type": "stream",
     "text": [
      "[1 2 1 ... 2 2 0]\n",
      "acc 0.6633807959109164\n"
     ]
    }
   ],
   "source": [
    "#Using the Logistic Regression\n",
    "clf = LogisticRegression()\n",
    "clf.fit(X_train, y_train)\n",
    "y_pred = clf.predict(X_test)\n",
    "print(y_pred)\n",
    "print(\"acc\", accuracy_score(y_test, y_pred))\n"
   ]
  },
  {
   "cell_type": "code",
   "execution_count": 16,
   "metadata": {},
   "outputs": [
    {
     "name": "stdout",
     "output_type": "stream",
     "text": [
      "              precision    recall  f1-score   support\n",
      "\n",
      "         tom       0.71      0.72      0.71       951\n",
      "       jerry       0.59      0.70      0.64       622\n",
      " tom_jerry_0       0.62      0.60      0.61       777\n",
      " tom_jerry_1       0.80      0.60      0.68       389\n",
      "\n",
      "    accuracy                           0.66      2739\n",
      "   macro avg       0.68      0.65      0.66      2739\n",
      "weighted avg       0.67      0.66      0.66      2739\n",
      "\n"
     ]
    }
   ],
   "source": [
    "#Logistic Regression\n",
    "\n",
    "target_names = ['tom', 'jerry','tom_jerry_0','tom_jerry_1']\n",
    "print(classification_report(y_test, y_pred, target_names=target_names))"
   ]
  },
  {
   "cell_type": "code",
   "execution_count": 20,
   "metadata": {},
   "outputs": [
    {
     "name": "stdout",
     "output_type": "stream",
     "text": [
      "acc 0.7838627236217598\n"
     ]
    }
   ],
   "source": [
    "#Using the Random Forests\n",
    "clf_rf = RandomForestClassifier() \n",
    "clf_rf.fit(X_train, y_train) \n",
    "y_predict1 = clf_rf.predict(X_test) \n",
    "print(\"acc\", accuracy_score(y_test, y_predict1))"
   ]
  },
  {
   "cell_type": "code",
   "execution_count": 21,
   "metadata": {},
   "outputs": [
    {
     "name": "stdout",
     "output_type": "stream",
     "text": [
      "              precision    recall  f1-score   support\n",
      "\n",
      "         tom       0.77      0.89      0.82       951\n",
      "       jerry       0.80      0.77      0.78       622\n",
      " tom_jerry_0       0.75      0.73      0.74       777\n",
      " tom_jerry_1       0.91      0.67      0.77       389\n",
      "\n",
      "    accuracy                           0.78      2739\n",
      "   macro avg       0.81      0.76      0.78      2739\n",
      "weighted avg       0.79      0.78      0.78      2739\n",
      "\n"
     ]
    }
   ],
   "source": [
    "#Random Forest Classifier\n",
    "\n",
    "target_names = ['tom', 'jerry','tom_jerry_0','tom_jerry_1']\n",
    "print(classification_report(y_test, y_predict1, target_names=target_names))"
   ]
  },
  {
   "cell_type": "code",
   "execution_count": 5,
   "metadata": {},
   "outputs": [],
   "source": [
    "from sklearn.linear_model import SGDClassifier"
   ]
  },
  {
   "cell_type": "code",
   "execution_count": 31,
   "metadata": {},
   "outputs": [
    {
     "name": "stderr",
     "output_type": "stream",
     "text": [
      "/Library/Frameworks/Python.framework/Versions/3.10/lib/python3.10/site-packages/sklearn/linear_model/_stochastic_gradient.py:696: ConvergenceWarning: Maximum number of iteration reached before convergence. Consider increasing max_iter to improve the fit.\n",
      "  warnings.warn(\n"
     ]
    },
    {
     "name": "stdout",
     "output_type": "stream",
     "text": [
      "acc 0.5779481562614093\n"
     ]
    }
   ],
   "source": [
    "#Using the SGDClassifier\n",
    "clf_sgd = SGDClassifier(loss=\"hinge\", penalty=\"l2\", max_iter=15)\n",
    "clf_sgd.fit(X_train, y_train)\n",
    "y_predict2 = clf_sgd.predict(X_test)\n",
    "print(\"acc\", accuracy_score(y_test, y_predict2))\n",
    "\n"
   ]
  },
  {
   "cell_type": "code",
   "execution_count": 8,
   "metadata": {},
   "outputs": [
    {
     "name": "stdout",
     "output_type": "stream",
     "text": [
      "              precision    recall  f1-score   support\n",
      "\n",
      "         tom       0.55      0.89      0.68       951\n",
      "       jerry       0.61      0.67      0.64       622\n",
      " tom_jerry_0       0.82      0.25      0.39       777\n",
      " tom_jerry_1       0.72      0.53      0.61       389\n",
      "\n",
      "    accuracy                           0.61      2739\n",
      "   macro avg       0.68      0.58      0.58      2739\n",
      "weighted avg       0.67      0.61      0.58      2739\n",
      "\n"
     ]
    }
   ],
   "source": [
    "#SGDClassifier Classifer\n",
    "\n",
    "target_names = ['tom', 'jerry','tom_jerry_0','tom_jerry_1']\n",
    "print(classification_report(y_test, y_predict2, target_names=target_names))"
   ]
  },
  {
   "cell_type": "code",
   "execution_count": 9,
   "metadata": {},
   "outputs": [],
   "source": [
    "from sklearn.neural_network import MLPClassifier"
   ]
  },
  {
   "cell_type": "code",
   "execution_count": 10,
   "metadata": {},
   "outputs": [
    {
     "name": "stdout",
     "output_type": "stream",
     "text": [
      "acc 0.606425702811245\n"
     ]
    }
   ],
   "source": [
    "#MLP Classifier \n",
    "clf_mlp = MLPClassifier(solver='lbfgs', alpha=1e-5, hidden_layer_sizes=(5, 2), random_state=1)\n",
    "clf_mlp.fit(X_train, y_train)\n",
    "y_predict3 = clf_sgd.predict(X_test)\n",
    "print(\"acc\", accuracy_score(y_test, y_predict3))"
   ]
  },
  {
   "cell_type": "code",
   "execution_count": 11,
   "metadata": {},
   "outputs": [
    {
     "name": "stdout",
     "output_type": "stream",
     "text": [
      "              precision    recall  f1-score   support\n",
      "\n",
      "         tom       0.55      0.89      0.68       951\n",
      "       jerry       0.61      0.67      0.64       622\n",
      " tom_jerry_0       0.82      0.25      0.39       777\n",
      " tom_jerry_1       0.72      0.53      0.61       389\n",
      "\n",
      "    accuracy                           0.61      2739\n",
      "   macro avg       0.68      0.58      0.58      2739\n",
      "weighted avg       0.67      0.61      0.58      2739\n",
      "\n"
     ]
    }
   ],
   "source": [
    "#MLP Classifier \n",
    "\n",
    "target_names = ['tom', 'jerry','tom_jerry_0','tom_jerry_1']\n",
    "print(classification_report(y_test, y_predict3, target_names=target_names))"
   ]
  },
  {
   "cell_type": "code",
   "execution_count": 24,
   "metadata": {},
   "outputs": [],
   "source": [
    "from sklearn.metrics import confusion_matrix, ConfusionMatrixDisplay"
   ]
  },
  {
   "cell_type": "code",
   "execution_count": 30,
   "metadata": {},
   "outputs": [
    {
     "name": "stdout",
     "output_type": "stream",
     "text": [
      "Confusion matrix for Logistic Regression\n"
     ]
    },
    {
     "data": {
      "image/png": "[encoded data removed]",
      "text/plain": [
       "<Figure size 432x288 with 2 Axes>"
      ]
     },
     "metadata": {
      "needs_background": "light"
     },
     "output_type": "display_data"
    },
    {
     "name": "stdout",
     "output_type": "stream",
     "text": [
      "Confusion matrix for Random Forests Classifier\n"
     ]
    },
    {
     "data": {
      "image/png": "[encoded data removed]",
      "text/plain": [
       "<Figure size 432x288 with 2 Axes>"
      ]
     },
     "metadata": {
      "needs_background": "light"
     },
     "output_type": "display_data"
    },
    {
     "name": "stdout",
     "output_type": "stream",
     "text": [
      "Confusion matrix for Stochastic Gradient Descent Classifier\n"
     ]
    },
    {
     "data": {
      "image/png": "[encoded data removed]",
      "text/plain": [
       "<Figure size 432x288 with 2 Axes>"
      ]
     },
     "metadata": {
      "needs_background": "light"
     },
     "output_type": "display_data"
    },
    {
     "name": "stdout",
     "output_type": "stream",
     "text": [
      "Confusion matrix for Multi-layer Perceptron Classifier\n"
     ]
    },
    {
     "data": {
      "image/png": "[encoded data removed]",
      "text/plain": [
       "<Figure size 432x288 with 2 Axes>"
      ]
     },
     "metadata": {
      "needs_background": "light"
     },
     "output_type": "display_data"
    }
   ],
   "source": [
    "target_names = ['tom', 'jerry','tomjerry_0','tomjerry_1']\n",
    "print(\"Confusion matrix for Logistic Regression\")\n",
    "cm = confusion_matrix(y_test, y_pred)\n",
    "disp = ConfusionMatrixDisplay(confusion_matrix=cm, display_labels=target_names)\n",
    "disp.plot()\n",
    "plt.show()\n",
    "print(\"Confusion matrix for Random Forests Classifier\")\n",
    "cm = confusion_matrix(y_test, y_predict1)\n",
    "disp = ConfusionMatrixDisplay(confusion_matrix=cm, display_labels=target_names)\n",
    "disp.plot()\n",
    "plt.show()\n",
    "print(\"Confusion matrix for Stochastic Gradient Descent Classifier\")\n",
    "cm = confusion_matrix(y_test, y_predict2)\n",
    "disp = ConfusionMatrixDisplay(confusion_matrix=cm, display_labels=target_names)\n",
    "disp.plot()\n",
    "plt.show()\n",
    "print(\"Confusion matrix for Multi-layer Perceptron Classifier\")\n",
    "cm = confusion_matrix(y_test, y_predict3)\n",
    "disp = ConfusionMatrixDisplay(confusion_matrix=cm, display_labels=target_names)\n",
    "disp.plot()\n",
    "plt.show()"
   ]
  },
  {
   "cell_type": "code",
   "execution_count": null,
   "metadata": {},
   "outputs": [],
   "source": []
  },
  {
   "cell_type": "code",
   "execution_count": null,
   "metadata": {},
   "outputs": [],
   "source": []
  }
 ],
 "metadata": {
  "kernelspec": {
   "display_name": "Python 3.9.12 ('base')",
   "language": "python",
   "name": "python3"
  },
  "language_info": {
   "codemirror_mode": {
    "name": "ipython",
    "version": 3
   },
   "file_extension": ".py",
   "mimetype": "text/x-python",
   "name": "python",
   "nbconvert_exporter": "python",
   "pygments_lexer": "ipython3",
   "version": "3.9.12"
  },
  "orig_nbformat": 4,
  "vscode": {
   "interpreter": {
    "hash": "c3fcc6200f334dcdbe0b4ec71f0f280f57126c1861599f8c62b7611d5754dc0c"
   }
  }
 },
 "nbformat": 4,
 "nbformat_minor": 2
}
